{
 "cells": [
  {
   "cell_type": "code",
   "execution_count": 1,
   "id": "7d16968f-4405-4c6b-b72d-67564c0b2269",
   "metadata": {},
   "outputs": [],
   "source": [
    "sentence=\"\"\"\n",
    "In 1971, a significant year in world history, many political, social, and cultural events unfolded globally. One of the most pivotal moments was the Bangladesh Liberation War, leading to the independence of Bangladesh from Pakistan. The war was marked by intense conflict and human suffering, but it also symbolized the birth of a new nation. The year also saw the continued impact of the Vietnam War, as the United States faced increasing domestic protests against the war's expansion. In technology, 1971 was the year when Intel released the first microprocessor, the 4004, marking a revolution in the world of computing. Meanwhile, in the cultural domain, music continued to thrive with artists like The Rolling Stones, John Lennon, and Led Zeppelin, who were at the forefront of the rock movement. The world in 1971 was shaped by political upheavals, technological innovations, and the continuing quest for civil rights.\n",
    "\n",
    "\"\"\"\n"
   ]
  },
  {
   "cell_type": "code",
   "execution_count": 2,
   "id": "5bf81399-d766-4b43-967b-07c43a934c43",
   "metadata": {},
   "outputs": [],
   "source": [
    "import nltk\n",
    "word=nltk.word_tokenize(sentence)"
   ]
  },
  {
   "cell_type": "code",
   "execution_count": 4,
   "id": "7a223c30-b7ea-4cae-87dc-2b2c8ee13699",
   "metadata": {},
   "outputs": [],
   "source": [
    "tag_pos=nltk.pos_tag(word)"
   ]
  },
  {
   "cell_type": "code",
   "execution_count": 12,
   "id": "7446ca01-477c-42f5-b12b-265706fed183",
   "metadata": {},
   "outputs": [
    {
     "name": "stderr",
     "output_type": "stream",
     "text": [
      "[nltk_data] Downloading package maxent_ne_chunker_tab to\n",
      "[nltk_data]     C:\\Users\\roger\\AppData\\Roaming\\nltk_data...\n",
      "[nltk_data]   Package maxent_ne_chunker_tab is already up-to-date!\n"
     ]
    },
    {
     "data": {
      "text/plain": [
       "True"
      ]
     },
     "execution_count": 12,
     "metadata": {},
     "output_type": "execute_result"
    }
   ],
   "source": [
    "nltk.download('maxent_ne_chunker_tab')"
   ]
  },
  {
   "cell_type": "code",
   "execution_count": 13,
   "id": "d6936cb9-cf95-4abf-b7e7-e3690105eab7",
   "metadata": {},
   "outputs": [
    {
     "name": "stderr",
     "output_type": "stream",
     "text": [
      "[nltk_data] Downloading package words to\n",
      "[nltk_data]     C:\\Users\\roger\\AppData\\Roaming\\nltk_data...\n",
      "[nltk_data]   Package words is already up-to-date!\n"
     ]
    },
    {
     "data": {
      "text/plain": [
       "True"
      ]
     },
     "execution_count": 13,
     "metadata": {},
     "output_type": "execute_result"
    }
   ],
   "source": [
    " nltk.download('words')"
   ]
  },
  {
   "cell_type": "code",
   "execution_count": 14,
   "id": "1afca265-faf3-4e85-8f6c-daa683768a60",
   "metadata": {},
   "outputs": [
    {
     "ename": "ModuleNotFoundError",
     "evalue": "No module named 'svgling'",
     "output_type": "error",
     "traceback": [
      "\u001b[1;31m---------------------------------------------------------------------------\u001b[0m",
      "\u001b[1;31mModuleNotFoundError\u001b[0m                       Traceback (most recent call last)",
      "File \u001b[1;32m~\\anaconda3\\Lib\\site-packages\\IPython\\core\\formatters.py:347\u001b[0m, in \u001b[0;36mBaseFormatter.__call__\u001b[1;34m(self, obj)\u001b[0m\n\u001b[0;32m    345\u001b[0m     method \u001b[38;5;241m=\u001b[39m get_real_method(obj, \u001b[38;5;28mself\u001b[39m\u001b[38;5;241m.\u001b[39mprint_method)\n\u001b[0;32m    346\u001b[0m     \u001b[38;5;28;01mif\u001b[39;00m method \u001b[38;5;129;01mis\u001b[39;00m \u001b[38;5;129;01mnot\u001b[39;00m \u001b[38;5;28;01mNone\u001b[39;00m:\n\u001b[1;32m--> 347\u001b[0m         \u001b[38;5;28;01mreturn\u001b[39;00m method()\n\u001b[0;32m    348\u001b[0m     \u001b[38;5;28;01mreturn\u001b[39;00m \u001b[38;5;28;01mNone\u001b[39;00m\n\u001b[0;32m    349\u001b[0m \u001b[38;5;28;01melse\u001b[39;00m:\n",
      "File \u001b[1;32m~\\anaconda3\\Lib\\site-packages\\nltk\\tree\\tree.py:782\u001b[0m, in \u001b[0;36mTree._repr_svg_\u001b[1;34m(self)\u001b[0m\n\u001b[0;32m    781\u001b[0m \u001b[38;5;28;01mdef\u001b[39;00m \u001b[38;5;21m_repr_svg_\u001b[39m(\u001b[38;5;28mself\u001b[39m):\n\u001b[1;32m--> 782\u001b[0m     \u001b[38;5;28;01mfrom\u001b[39;00m \u001b[38;5;21;01msvgling\u001b[39;00m \u001b[38;5;28;01mimport\u001b[39;00m draw_tree\n\u001b[0;32m    784\u001b[0m     \u001b[38;5;28;01mreturn\u001b[39;00m draw_tree(\u001b[38;5;28mself\u001b[39m)\u001b[38;5;241m.\u001b[39m_repr_svg_()\n",
      "\u001b[1;31mModuleNotFoundError\u001b[0m: No module named 'svgling'"
     ]
    },
    {
     "data": {
      "text/plain": [
       "Tree('S', [('In', 'IN'), ('1971', 'CD'), (',', ','), ('a', 'DT'), ('significant', 'JJ'), ('year', 'NN'), ('in', 'IN'), ('world', 'NN'), ('history', 'NN'), (',', ','), ('many', 'JJ'), ('political', 'JJ'), (',', ','), ('social', 'JJ'), (',', ','), ('and', 'CC'), ('cultural', 'JJ'), ('events', 'NNS'), ('unfolded', 'VBD'), ('globally', 'RB'), ('.', '.'), ('One', 'CD'), ('of', 'IN'), ('the', 'DT'), ('most', 'RBS'), ('pivotal', 'JJ'), ('moments', 'NNS'), ('was', 'VBD'), ('the', 'DT'), Tree('ORGANIZATION', [('Bangladesh', 'NNP'), ('Liberation', 'NNP'), ('War', 'NNP')]), (',', ','), ('leading', 'VBG'), ('to', 'TO'), ('the', 'DT'), ('independence', 'NN'), ('of', 'IN'), Tree('GPE', [('Bangladesh', 'NNP')]), ('from', 'IN'), Tree('GPE', [('Pakistan', 'NNP')]), ('.', '.'), ('The', 'DT'), ('war', 'NN'), ('was', 'VBD'), ('marked', 'VBN'), ('by', 'IN'), ('intense', 'JJ'), ('conflict', 'NN'), ('and', 'CC'), ('human', 'JJ'), ('suffering', 'NN'), (',', ','), ('but', 'CC'), ('it', 'PRP'), ('also', 'RB'), ('symbolized', 'VBD'), ('the', 'DT'), ('birth', 'NN'), ('of', 'IN'), ('a', 'DT'), ('new', 'JJ'), ('nation', 'NN'), ('.', '.'), ('The', 'DT'), ('year', 'NN'), ('also', 'RB'), ('saw', 'VBD'), ('the', 'DT'), ('continued', 'JJ'), ('impact', 'NN'), ('of', 'IN'), ('the', 'DT'), Tree('ORGANIZATION', [('Vietnam', 'NNP'), ('War', 'NNP')]), (',', ','), ('as', 'IN'), ('the', 'DT'), Tree('GPE', [('United', 'NNP'), ('States', 'NNPS')]), ('faced', 'VBD'), ('increasing', 'VBG'), ('domestic', 'JJ'), ('protests', 'NNS'), ('against', 'IN'), ('the', 'DT'), ('war', 'NN'), (\"'s\", 'POS'), ('expansion', 'NN'), ('.', '.'), ('In', 'IN'), ('technology', 'NN'), (',', ','), ('1971', 'CD'), ('was', 'VBD'), ('the', 'DT'), ('year', 'NN'), ('when', 'WRB'), Tree('PERSON', [('Intel', 'NNP')]), ('released', 'VBD'), ('the', 'DT'), ('first', 'JJ'), ('microprocessor', 'NN'), (',', ','), ('the', 'DT'), ('4004', 'CD'), (',', ','), ('marking', 'VBG'), ('a', 'DT'), ('revolution', 'NN'), ('in', 'IN'), ('the', 'DT'), ('world', 'NN'), ('of', 'IN'), ('computing', 'VBG'), ('.', '.'), ('Meanwhile', 'RB'), (',', ','), ('in', 'IN'), ('the', 'DT'), ('cultural', 'JJ'), ('domain', 'NN'), (',', ','), ('music', 'NN'), ('continued', 'VBD'), ('to', 'TO'), ('thrive', 'VB'), ('with', 'IN'), ('artists', 'NNS'), ('like', 'IN'), ('The', 'DT'), Tree('ORGANIZATION', [('Rolling', 'NNP'), ('Stones', 'NNP')]), (',', ','), Tree('PERSON', [('John', 'NNP'), ('Lennon', 'NNP')]), (',', ','), ('and', 'CC'), Tree('PERSON', [('Led', 'NNP'), ('Zeppelin', 'NNP')]), (',', ','), ('who', 'WP'), ('were', 'VBD'), ('at', 'IN'), ('the', 'DT'), ('forefront', 'NN'), ('of', 'IN'), ('the', 'DT'), ('rock', 'NN'), ('movement', 'NN'), ('.', '.'), ('The', 'DT'), ('world', 'NN'), ('in', 'IN'), ('1971', 'CD'), ('was', 'VBD'), ('shaped', 'VBN'), ('by', 'IN'), ('political', 'JJ'), ('upheavals', 'NNS'), (',', ','), ('technological', 'JJ'), ('innovations', 'NNS'), (',', ','), ('and', 'CC'), ('the', 'DT'), ('continuing', 'VBG'), ('quest', 'JJS'), ('for', 'IN'), ('civil', 'JJ'), ('rights', 'NNS'), ('.', '.')])"
      ]
     },
     "execution_count": 14,
     "metadata": {},
     "output_type": "execute_result"
    }
   ],
   "source": [
    "nltk.ne_chunk(tag_pos)"
   ]
  },
  {
   "cell_type": "code",
   "execution_count": 15,
   "id": "3be174a5-d5bf-441b-973a-71516efe2e9f",
   "metadata": {},
   "outputs": [
    {
     "name": "stdout",
     "output_type": "stream",
     "text": [
      "Requirement already satisfied: svgling in c:\\users\\roger\\appdata\\local\\programs\\python\\python310\\lib\\site-packages (0.5.0)\n",
      "Requirement already satisfied: svgwrite in c:\\users\\roger\\appdata\\local\\programs\\python\\python310\\lib\\site-packages (from svgling) (1.4.3)\n"
     ]
    }
   ],
   "source": [
    "!pip install svgling\n"
   ]
  },
  {
   "cell_type": "code",
   "execution_count": null,
   "id": "8dcf16f2-6f1d-4073-831f-71405ff6ddc3",
   "metadata": {},
   "outputs": [],
   "source": []
  }
 ],
 "metadata": {
  "kernelspec": {
   "display_name": "Python 3 (ipykernel)",
   "language": "python",
   "name": "python3"
  },
  "language_info": {
   "codemirror_mode": {
    "name": "ipython",
    "version": 3
   },
   "file_extension": ".py",
   "mimetype": "text/x-python",
   "name": "python",
   "nbconvert_exporter": "python",
   "pygments_lexer": "ipython3",
   "version": "3.12.7"
  }
 },
 "nbformat": 4,
 "nbformat_minor": 5
}
