{
 "cells": [
  {
   "cell_type": "code",
   "execution_count": 1,
   "id": "65026bd2-e2e7-4706-a049-5eaa9daf0398",
   "metadata": {},
   "outputs": [],
   "source": [
    "paragraph=\"\"\"\n",
    "Flowers are the colorful and fragrant reproductive parts of flowering plants, known for their beauty and variety. \n",
    "They play a crucial role in nature by attracting pollinators such as bees, butterflies, and birds, which help in the process of pollination. \n",
    "Flowers come in many shapes, sizes, and colors, each adapted to specific environments and purposes. \n",
    "Beyond their ecological importance, flowers hold cultural, emotional, and symbolic meanings in human societies—used to express love,\n",
    "celebrate special occasions, and honor the memory of loved ones. \n",
    "From roses to lilies, flowers continue to inspire art, literature, and joy around the world.\n",
    "\"\"\""
   ]
  },
  {
   "cell_type": "code",
   "execution_count": 8,
   "id": "83ab8a5d-499a-44f5-a38f-43f71351bfc5",
   "metadata": {},
   "outputs": [
    {
     "name": "stderr",
     "output_type": "stream",
     "text": [
      "[nltk_data] Downloading package punkt_tab to\n",
      "[nltk_data]     C:\\Users\\roger\\AppData\\Roaming\\nltk_data...\n",
      "[nltk_data]   Unzipping tokenizers\\punkt_tab.zip.\n"
     ]
    },
    {
     "data": {
      "text/plain": [
       "True"
      ]
     },
     "execution_count": 8,
     "metadata": {},
     "output_type": "execute_result"
    }
   ],
   "source": [
    "import nltk\n",
    "nltk.download('punkt_tab')\n"
   ]
  },
  {
   "cell_type": "code",
   "execution_count": 17,
   "id": "67a4579e-2b37-4cd4-8e4a-6129d3e68778",
   "metadata": {},
   "outputs": [],
   "source": [
    "import nltk\n",
    "\n",
    "from nltk.stem import PorterStemmer\n",
    "from nltk.corpus import stopwords\n",
    "stemmer=PorterStemmer()\n",
    "sentences=nltk.sent_tokenize(paragraph)"
   ]
  },
  {
   "cell_type": "code",
   "execution_count": 18,
   "id": "4c1c0fb5-6027-48f9-888b-770270fdacee",
   "metadata": {},
   "outputs": [
    {
     "data": {
      "text/plain": [
       "['\\nFlowers are the colorful and fragrant reproductive parts of flowering plants, known for their beauty and variety.',\n",
       " 'They play a crucial role in nature by attracting pollinators such as bees, butterflies, and birds, which help in the process of pollination.',\n",
       " 'Flowers come in many shapes, sizes, and colors, each adapted to specific environments and purposes.',\n",
       " 'Beyond their ecological importance, flowers hold cultural, emotional, and symbolic meanings in human societies—used to express love,\\ncelebrate special occasions, and honor the memory of loved ones.',\n",
       " 'From roses to lilies, flowers continue to inspire art, literature, and joy around the world.']"
      ]
     },
     "execution_count": 18,
     "metadata": {},
     "output_type": "execute_result"
    }
   ],
   "source": [
    "sentences"
   ]
  },
  {
   "cell_type": "code",
   "execution_count": 19,
   "id": "5a1db205-9ede-4a83-b43d-00779ac86475",
   "metadata": {},
   "outputs": [
    {
     "name": "stderr",
     "output_type": "stream",
     "text": [
      "[nltk_data] Downloading package stopwords to\n",
      "[nltk_data]     C:\\Users\\roger\\AppData\\Roaming\\nltk_data...\n",
      "[nltk_data]   Package stopwords is already up-to-date!\n"
     ]
    },
    {
     "data": {
      "text/plain": [
       "True"
      ]
     },
     "execution_count": 19,
     "metadata": {},
     "output_type": "execute_result"
    }
   ],
   "source": [
    "import nltk\n",
    "nltk.download('stopwords')\n"
   ]
  },
  {
   "cell_type": "code",
   "execution_count": 20,
   "id": "b1687648-62a3-40a3-b920-fca9cbd78258",
   "metadata": {},
   "outputs": [
    {
     "name": "stderr",
     "output_type": "stream",
     "text": [
      "[nltk_data] Downloading package averaged_perceptron_tagger_eng to\n",
      "[nltk_data]     C:\\Users\\roger\\AppData\\Roaming\\nltk_data...\n",
      "[nltk_data]   Package averaged_perceptron_tagger_eng is already up-to-\n",
      "[nltk_data]       date!\n"
     ]
    },
    {
     "data": {
      "text/plain": [
       "True"
      ]
     },
     "execution_count": 20,
     "metadata": {},
     "output_type": "execute_result"
    }
   ],
   "source": [
    "import nltk\n",
    "nltk.download('averaged_perceptron_tagger_eng')"
   ]
  },
  {
   "cell_type": "code",
   "execution_count": 21,
   "id": "a22da16f-5198-4661-95ec-20c42246ff74",
   "metadata": {},
   "outputs": [
    {
     "name": "stdout",
     "output_type": "stream",
     "text": [
      "[('Flowers', 'NNS'), ('colorful', 'JJ'), ('fragrant', 'JJ'), ('reproductive', 'JJ'), ('parts', 'NNS'), ('flowering', 'VBG'), ('plants', 'NNS'), (',', ','), ('known', 'VBN'), ('beauty', 'NN'), ('variety', 'NN'), ('.', '.')]\n",
      "[('They', 'PRP'), ('play', 'VBP'), ('crucial', 'JJ'), ('role', 'NN'), ('nature', 'NN'), ('attracting', 'VBG'), ('pollinators', 'NNS'), ('bees', 'NNS'), (',', ','), ('butterflies', 'NNS'), (',', ','), ('birds', 'NNS'), (',', ','), ('help', 'NN'), ('process', 'NN'), ('pollination', 'NN'), ('.', '.')]\n",
      "[('Flowers', 'NNS'), ('come', 'VBP'), ('many', 'JJ'), ('shapes', 'NNS'), (',', ','), ('sizes', 'NNS'), (',', ','), ('colors', 'NNS'), (',', ','), ('adapted', 'VBN'), ('specific', 'JJ'), ('environments', 'NNS'), ('purposes', 'NNS'), ('.', '.')]\n",
      "[('Beyond', 'NNP'), ('ecological', 'JJ'), ('importance', 'NN'), (',', ','), ('flowers', 'NNS'), ('hold', 'VBP'), ('cultural', 'JJ'), (',', ','), ('emotional', 'JJ'), (',', ','), ('symbolic', 'JJ'), ('meanings', 'NNS'), ('human', 'NN'), ('societies—used', 'VBD'), ('express', 'NN'), ('love', 'NN'), (',', ','), ('celebrate', 'VBP'), ('special', 'JJ'), ('occasions', 'NNS'), (',', ','), ('honor', 'JJ'), ('memory', 'NN'), ('loved', 'VBN'), ('ones', 'NNS'), ('.', '.')]\n",
      "[('From', 'IN'), ('roses', 'NNS'), ('lilies', 'NNS'), (',', ','), ('flowers', 'NNS'), ('continue', 'VBP'), ('inspire', 'JJ'), ('art', 'NN'), (',', ','), ('literature', 'NN'), (',', ','), ('joy', 'NN'), ('around', 'IN'), ('world', 'NN'), ('.', '.')]\n"
     ]
    }
   ],
   "source": [
    "for i in range(len(sentences)):\n",
    "    words=nltk.word_tokenize(sentences[i])\n",
    "    words=[word for word in words if word not in set(stopwords.words('english'))]\n",
    "    sentences[i]=' '.join(words)\n",
    "    pos_tag=nltk.pos_tag(words)\n",
    "    print(pos_tag)\n",
    "    "
   ]
  },
  {
   "cell_type": "code",
   "execution_count": null,
   "id": "a01d4913-4f7e-4819-a93e-8ceae0800177",
   "metadata": {},
   "outputs": [],
   "source": []
  },
  {
   "cell_type": "code",
   "execution_count": null,
   "id": "791329a6-c964-48f5-9933-ad197e396dd0",
   "metadata": {},
   "outputs": [],
   "source": []
  }
 ],
 "metadata": {
  "kernelspec": {
   "display_name": "Python 3 (ipykernel)",
   "language": "python",
   "name": "python3"
  },
  "language_info": {
   "codemirror_mode": {
    "name": "ipython",
    "version": 3
   },
   "file_extension": ".py",
   "mimetype": "text/x-python",
   "name": "python",
   "nbconvert_exporter": "python",
   "pygments_lexer": "ipython3",
   "version": "3.12.7"
  }
 },
 "nbformat": 4,
 "nbformat_minor": 5
}
